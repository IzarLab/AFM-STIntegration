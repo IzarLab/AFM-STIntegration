{
 "cells": [
  {
   "attachments": {},
   "cell_type": "markdown",
   "id": "b1dd4736-07a8-4bac-bb86-0c040c1d3594",
   "metadata": {},
   "source": [
    "# SPIFT Tutorial\n",
    "Authors: Karan Luthria, Paula Josefine Schultheiss\n",
    "Izar Lab, CUIMC\n",
    "\n",
    "This is a **SPIFT Tutorial** - This notebook will guide you through a demo of SPiFT (Stiffness Profiling Integrated with Functional Transcriptomics).\n",
    "\n",
    "---\n",
    "\n",
    "## 1. Introduction\n",
    "\n",
    "SPIFT integrates Atomic Force Microscopy Reads with Spatial Transcriptomics and snRNA-seq methods, as a way of estimating the stifffnes of the enviornment surrounding single cells.\n",
    "\n",
    "---\n",
    "\n",
    "## 2. Setup and Requirements\n",
    "\n",
    "Before proceeding, ensure that the following dependencies are installed:\n",
    "\n",
    "- Python 3.x\n",
    "- Jupyter Notebook\n",
    "- Required Python libraries: `numpy`, `pandas`, `matplotlib`, `seaborn`\n",
    "\n",
    "\n",
    "## 3. Required Input Files and Formatting\n",
    "\n",
    "\n"
   ]
  },
  {
   "cell_type": "code",
   "execution_count": null,
   "id": "85655b85-c592-4c46-aa2f-352cf73b8887",
   "metadata": {},
   "outputs": [],
   "source": []
  }
 ],
 "metadata": {
  "kernelspec": {
   "display_name": "Python 3 (ipykernel)",
   "language": "python",
   "name": "python3"
  },
  "language_info": {
   "codemirror_mode": {
    "name": "ipython",
    "version": 3
   },
   "file_extension": ".py",
   "mimetype": "text/x-python",
   "name": "python",
   "nbconvert_exporter": "python",
   "pygments_lexer": "ipython3",
   "version": "3.11.4"
  }
 },
 "nbformat": 4,
 "nbformat_minor": 5
}
